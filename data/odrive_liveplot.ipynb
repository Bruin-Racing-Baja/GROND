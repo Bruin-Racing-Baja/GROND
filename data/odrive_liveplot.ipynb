{
 "cells": [
  {
   "cell_type": "code",
   "execution_count": null,
   "metadata": {},
   "outputs": [],
   "source": [
    "import odrive\n",
    "odrv = odrive.find_any()\n",
    "axis = odrv.axis"
   ]
  },
  {
   "cell_type": "code",
   "execution_count": 1,
   "metadata": {},
   "outputs": [],
   "source": [
    "import pandas as pd\n",
    "import time\n",
    "import plotly.graph_objects as go\n",
    "\n",
    "column_data = [\n",
    "    (\"velocity_estimate\", \"Velocity Estimate\", lambda: axis.encoder.velocity_estimate),\n",
    "    (\"velocity_setpoint\", \"Velocity Setpoint\", lambda: axis.controller.velocity_setpoint)\n",
    "    (\"shadow_count\", \"Shadow Count\", lambda: axis.encoder.shadow_count),\n",
    "]\n",
    "columns = [cd[0] for cd in column_data]\n",
    "df = pd.DataFrame(columns=columns)\n",
    "\n",
    "fig = go.Figure(go.FigureWidget())\n",
    "scatter_dict = { }\n",
    "for cd in column_data:\n",
    "    scatter_dict[cd[0]] = {}\n",
    "    scatter_dict[cd[0]][\"scatter\"] = fig.add_scatter(name=cd[1])\n",
    "    scatter_dict[cd[0]][\"x\"] = []\n",
    "    scatter_dict[cd[0]][\"y\"] = []\n"
   ]
  },
  {
   "cell_type": "code",
   "execution_count": null,
   "metadata": {},
   "outputs": [],
   "source": [
    "start_s = time.time()\n",
    "\n",
    "update_rate_s = 0.1\n",
    "max_window_length = 100\n",
    "window_length = 0\n",
    "while True:\n",
    "    time_s = 1\n",
    "    for cd in column_data:\n",
    "        scatter = scatter_dict[cd[0]]\n",
    "        scatter[\"x\"].append(time_s)\n",
    "        scatter[\"y\"].append(cd[2]())\n",
    "        if window_length > max_window_length:\n",
    "            scatter[\"x\"] = scatter[\"x\"][1:]\n",
    "            scatter[\"y\"] = scatter[\"y\"][1:]\n",
    "    window_length += 1\n",
    "    time.sleep(update_rate_s)"
   ]
  }
 ],
 "metadata": {
  "kernelspec": {
   "display_name": "Python 3.10.9 64-bit",
   "language": "python",
   "name": "python3"
  },
  "language_info": {
   "codemirror_mode": {
    "name": "ipython",
    "version": 3
   },
   "file_extension": ".py",
   "mimetype": "text/x-python",
   "name": "python",
   "nbconvert_exporter": "python",
   "pygments_lexer": "ipython3",
   "version": "3.10.9"
  },
  "orig_nbformat": 4,
  "vscode": {
   "interpreter": {
    "hash": "e7370f93d1d0cde622a1f8e1c04877d8463912d04d973331ad4851f04de6915a"
   }
  }
 },
 "nbformat": 4,
 "nbformat_minor": 2
}
