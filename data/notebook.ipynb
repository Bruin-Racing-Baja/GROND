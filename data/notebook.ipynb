{
 "cells": [
  {
   "cell_type": "markdown",
   "metadata": {},
   "source": [
    "### Data Parsing Setup"
   ]
  },
  {
   "cell_type": "code",
   "execution_count": null,
   "metadata": {},
   "outputs": [],
   "source": [
    "import os\n",
    "import numpy as np\n",
    "import pandas as pd\n",
    "\n",
    "import plotly.graph_objects as go\n",
    "\n",
    "# import plotly.express as px\n",
    "# import plotly.subplots as subplots\n",
    "\n",
    "csv_cols = [\n",
    "    \"dt_us\",\n",
    "    \"voltage\",\n",
    "    \"heartbeat\",\n",
    "    \"wheel_rpm\",\n",
    "    \"engine_rpm\",\n",
    "    \"target_rpm\",\n",
    "    \"velocity_command\",\n",
    "    \"real_velocity_command\",\n",
    "    \"shadow_count\",\n",
    "    \"ignore1\",\n",
    "    \"ignore2\",\n",
    "    \"iq_measured\",\n",
    "    \"flushed\",\n",
    "    \"wheel_count\",\n",
    "    \"engine_count\",\n",
    "    \"iq_setpoint\",\n",
    "    \"start_us\",\n",
    "    \"stop_us\",\n",
    "    \"current\",\n",
    "    \"axis_error\",\n",
    "    \"motor_error\",\n",
    "    \"encoder_error\",\n",
    "]\n",
    "\n",
    "wheel_diameter = 23\n",
    "secondary_ratio = 12 / 6 * 45 / 17\n",
    "wheel_ratio = 12 / 6 * 18 / 57\n",
    "pitch_angle = 5\n",
    "encoder_cpr = 8192"
   ]
  },
  {
   "cell_type": "code",
   "execution_count": null,
   "metadata": {},
   "outputs": [],
   "source": [
    "class DescribedDataframe(pd.DataFrame):\n",
    "    _metadata = [\"filename\", \"description\"]\n",
    "\n",
    "    @property\n",
    "    def _constructor(self):\n",
    "        return DescribedDataframe"
   ]
  },
  {
   "cell_type": "code",
   "execution_count": null,
   "metadata": {},
   "outputs": [],
   "source": [
    "def parseCSVFile(path):\n",
    "    df = pd.read_csv(path, skiprows=1, header=None, names=csv_cols)\n",
    "    return DescribedDataframe(df)\n",
    "\n",
    "\n",
    "def parseBinaryFile(path):\n",
    "    return None\n",
    "\n",
    "\n",
    "def postProcessDataframe(df):\n",
    "    df[\"start_s\"] = df[\"start_us\"] / 1e6\n",
    "\n",
    "    df[\"secondary_rpm\"] = df[\"wheel_rpm\"] * secondary_ratio\n",
    "    df[\"wheel_rpm\"] = df[\"wheel_rpm\"] * wheel_ratio\n",
    "    df[\"wheel_mph\"] = (df[\"wheel_rpm\"] * wheel_diameter * np.pi) / (12 * 5280) * 60\n",
    "\n",
    "    df[\"actuator_position_mm\"] = -df[\"shadow_count\"] / encoder_cpr * pitch_angle\n",
    "    df[\"shift_ratio\"] = df[\"secondary_rpm\"] / df[\"engine_rpm\"]\n",
    "\n",
    "    motor_error_idxs = np.where(df[\"motor_error\"] != 0)\n",
    "    motor_error_bool = np.zeros(len(df))\n",
    "    motor_error_bool[motor_error_idxs] = 1\n",
    "    df[\"motor_error_bool\"] = motor_error_bool\n",
    "\n",
    "\n",
    "def addNormalizedColumns(df):\n",
    "    for col in df:\n",
    "        col_norm = f\"norm_{col}\"\n",
    "        if col.startswith(\"norm_\") or col_norm in df:\n",
    "            continue\n",
    "        col_obj = df[col]\n",
    "        df[col_norm] = (col_obj - np.min(col_obj)) / (np.max(col_obj) - np.min(col_obj))"
   ]
  },
  {
   "cell_type": "markdown",
   "metadata": {},
   "source": [
    "### Parse Data"
   ]
  },
  {
   "cell_type": "code",
   "execution_count": null,
   "metadata": {},
   "outputs": [],
   "source": [
    "paths = [\n",
    "    # \"logs/log_2023-04-13_14-03-49.txt\",\n",
    "    # \"logs/log_2023-04-13_14-04-12.txt\",\n",
    "    # \"logs/log_2023-04-13_20-50-05.txt\",\n",
    "    # \"logs/log_2023-04-13_20-51-34.txt\",\n",
    "    # \"logs/log_2023-04-13_20-52-02.txt\",\n",
    "    # \"logs/log_2023-04-13_21-13-26.txt\",\n",
    "    # \"logs/log_2023-04-13_21-13-44.txt\",\n",
    "    # \"logs/log_2023-04-13_21-15-18.txt\",\n",
    "    # \"logs/log_2023-04-13_21-15-35.txt\",\n",
    "    # \"logs/log_2023-04-14_11-01-24.txt\",\n",
    "    # \"logs/log_2023-04-14_16-56-05.txt\",\n",
    "    # \"logs/log_2023-04-14_16-56-54.txt\",\n",
    "    # \"logs/log_2023-04-14_16-59-10.txt\",\n",
    "    # \"logs/log_2023-04-14_17-03-28.txt\",\n",
    "    # \"logs/log_2023-04-14_17-05-20.txt\",\n",
    "    # \"logs/log_2023-04-14_17-06-14.txt\",\n",
    "    # \"logs/log_2023-04-14_17-06-58.txt\",\n",
    "    # \"logs/log_2023-04-14_17-08-19.txt\",\n",
    "    # \"logs/log_2023-04-14_17-10-39.txt\",\n",
    "    # \"logs/log_2023-04-14_17-10-58.txt\",\n",
    "    # \"logs/log_2023-04-14_17-11-21.txt\",\n",
    "    # \"logs/log_2023-04-14_17-14-25.txt\",\n",
    "    # \"logs/log_2023-04-14_17-17-17.txt\",\n",
    "    # \"logs/log_2023-04-14_17-18-18.txt\",\n",
    "    # \"logs/log_2023-04-14_17-18-56.txt\",\n",
    "    # \"logs/log_2023-04-14_17-27-30.txt\",\n",
    "    # \"logs/log_2023-04-14_17-30-01.txt\",\n",
    "    # \"logs/log_2023-04-14_18-00-22.txt\",\n",
    "    # \"logs/log_2023-04-14_18-00-50.txt\",\n",
    "    # \"logs/log_2023-04-14_18-20-06.txt\",\n",
    "    # \"logs/log_2023-04-14_18-22-27.txt\",\n",
    "    # \"logs/log_2023-04-14_18-29-41.txt\",\n",
    "    # \"logs/log_2023-04-14_18-37-39.txt\",\n",
    "    # \"logs/log_2023-04-14_18-40-02.txt\",\n",
    "    # \"logs/log_2023-04-14_18-40-21.txt\",\n",
    "    # \"logs/log_2023-04-14_18-40-50.txt\",\n",
    "    # \"logs/log_2023-04-14_18-57-33.txt\",\n",
    "    # \"logs/log_2023-04-14_19-09-36.txt\",\n",
    "    # \"logs/log_2023-04-14_19-10-12.txt\",\n",
    "    # \"logs/log_2023-04-14_19-10-30.txt\",\n",
    "    \"logs/log_2023-04-14_19-46-54_paige-drive-to-garage-spinout-error.txt\",\n",
    "    \"logs/log_2023-04-14_20-13-27_paige-brake-check.txt\",\n",
    "]\n",
    "generate_html = True\n",
    "offline = False\n",
    "show_figures = False"
   ]
  },
  {
   "cell_type": "code",
   "execution_count": null,
   "metadata": {},
   "outputs": [],
   "source": [
    "dfs = []\n",
    "\n",
    "for path in paths:\n",
    "    dfs.append(parseCSVFile(path))\n",
    "    postProcessDataframe(dfs[-1])\n",
    "    dfs[-1].filename = os.path.basename(path)\n",
    "    addNormalizedColumns(dfs[-1])"
   ]
  },
  {
   "cell_type": "markdown",
   "metadata": {},
   "source": [
    "### Figure Generators"
   ]
  },
  {
   "cell_type": "code",
   "execution_count": null,
   "metadata": {},
   "outputs": [],
   "source": [
    "def getRPMFigure(df):\n",
    "    fig = go.Figure()\n",
    "    fig.add_trace(go.Scatter(x=df[\"start_s\"], y=df[\"engine_rpm\"], name=\"Engine RPM\"))\n",
    "    fig.add_trace(\n",
    "        go.Scatter(x=df[\"start_s\"], y=df[\"secondary_rpm\"], name=\"Secondary RPM\")\n",
    "    )\n",
    "    fig.add_trace(go.Scatter(x=df[\"start_s\"], y=df[\"target_rpm\"], name=\"Target RPM\"))\n",
    "    fig.update_layout(\n",
    "        xaxis_title=\"Time (s)\",\n",
    "        yaxis_title=\"RPM\",\n",
    "        title=f\"Engine RPM and Secondary RPM<br><sup>{df.filename}</sup>\",\n",
    "    )\n",
    "    fig.update_traces(showlegend=True)\n",
    "    return fig"
   ]
  },
  {
   "cell_type": "code",
   "execution_count": null,
   "metadata": {},
   "outputs": [],
   "source": [
    "def getRPMAndActuatorFigure(df):\n",
    "    fig = go.Figure()\n",
    "    fig.add_trace(\n",
    "        go.Scatter(x=df[\"start_s\"], y=df[\"norm_engine_rpm\"], name=\"Engine RPM\")\n",
    "    )\n",
    "    fig.add_trace(\n",
    "        go.Scatter(x=df[\"start_s\"], y=df[\"norm_secondary_rpm\"], name=\"Secondary RPM\")\n",
    "    )\n",
    "    fig.add_trace(\n",
    "        go.Scatter(\n",
    "            x=df[\"start_s\"], y=df[\"norm_actuator_position_mm\"], name=\"Actuator Position\"\n",
    "        )\n",
    "    )\n",
    "    fig.update_layout(\n",
    "        xaxis_title=\"Time (s)\",\n",
    "        title=f\"Normalized Engine RPM, Secondary RPM, and Actuator Position<br><sup>{df.filename}</sup>\",\n",
    "    )\n",
    "    fig.update_traces(showlegend=True)\n",
    "    return fig"
   ]
  },
  {
   "cell_type": "code",
   "execution_count": null,
   "metadata": {},
   "outputs": [],
   "source": [
    "def getVehicleSpeedFigure(df):\n",
    "    fig = go.Figure()\n",
    "    fig.add_trace(\n",
    "        go.Scatter(\n",
    "            x=df[\"start_s\"],\n",
    "            y=df[\"wheel_mph\"],\n",
    "        )\n",
    "    )\n",
    "    fig.update_layout(\n",
    "        xaxis_title=\"Time (s)\",\n",
    "        yaxis_title=\"Vehicle Speed (mph)\",\n",
    "        title=f\"Vehicle Speed<br><sup>{df.filename}</sup>\",\n",
    "    )\n",
    "    return fig"
   ]
  },
  {
   "cell_type": "code",
   "execution_count": null,
   "metadata": {},
   "outputs": [],
   "source": [
    "def getShiftRatioAndAcuatorFigure(df):\n",
    "    fig = go.Figure()\n",
    "    fig.add_trace(\n",
    "        go.Scatter(\n",
    "            x=df[\"start_s\"],\n",
    "            y=df[\"norm_actuator_position_mm\"],\n",
    "            name=\"Actuator Position (mm)\",\n",
    "        )\n",
    "    )\n",
    "    fig.add_trace(\n",
    "        go.Scatter(x=df[\"start_s\"], y=df[\"norm_shift_ratio\"], name=\"Shift Ratio\")\n",
    "    )\n",
    "    fig.update_layout(\n",
    "        xaxis_title=\"Time (s)\",\n",
    "        title=f\"Normalized Actuator Position and Shift Ratio<br><sup>{df.filename}</sup>\",\n",
    "    )\n",
    "    fig.update_traces(showlegend=True)\n",
    "    return fig"
   ]
  },
  {
   "cell_type": "code",
   "execution_count": null,
   "metadata": {},
   "outputs": [],
   "source": [
    "def getVelocityCommandsFigure(df):\n",
    "    fig = go.Figure()\n",
    "    fig.add_trace(\n",
    "        go.Scatter(\n",
    "            x=df[\"start_s\"], y=df[\"velocity_command\"], name=\"Unclamped Velocity Command\"\n",
    "        )\n",
    "    )\n",
    "    fig.add_trace(\n",
    "        go.Scatter(\n",
    "            x=df[\"start_s\"], y=df[\"real_velocity_command\"], name=\"Velocity Command\"\n",
    "        )\n",
    "    )\n",
    "    fig.update_layout(\n",
    "        xaxis_title=\"Time (s)\",\n",
    "        yaxis_title=\"Velocity Command\",\n",
    "        title=f\"Velocity Command<br><sup>{df.filename}</sup>\",\n",
    "    )\n",
    "    return fig"
   ]
  },
  {
   "cell_type": "code",
   "execution_count": null,
   "metadata": {},
   "outputs": [],
   "source": [
    "def getShadowCountFigure(df):\n",
    "    fig = go.Figure()\n",
    "    fig.add_trace(\n",
    "        go.Scatter(x=df[\"start_s\"], y=df[\"shadow_count\"], name=\"Shadow Count\")\n",
    "    )\n",
    "    fig.update_layout(\n",
    "        xaxis_title=\"Time (s)\",\n",
    "        yaxis_title=\"Shadow Count\",\n",
    "        title=f\"Shadow Count<br><sup>{df.filename}</sup>\",\n",
    "    )\n",
    "    return fig"
   ]
  },
  {
   "cell_type": "markdown",
   "metadata": {},
   "source": [
    "### Create Invidual Graphs (By Logs)"
   ]
  },
  {
   "cell_type": "code",
   "execution_count": null,
   "metadata": {},
   "outputs": [],
   "source": [
    "def figuresToHTML(figs, filename, offline=False):\n",
    "    with open(filename, \"w\") as file:\n",
    "        file.write(\"<html><head></head><body>\" + \"\\n\")\n",
    "        for fig in figs:\n",
    "            font_size_backup = fig.layout.font.size\n",
    "            fig.update_layout(font={\"size\": 20})\n",
    "            inner_html = (\n",
    "                fig.to_html(include_plotlyjs=(True if offline else \"cdn\"))\n",
    "                .split(\"<body>\")[1]\n",
    "                .split(\"</body>\")[0]\n",
    "            )\n",
    "            file.write(inner_html)\n",
    "            fig.update_layout(font={\"size\": font_size_backup})\n",
    "        file.write(\"</body></html>\" + \"\\n\")"
   ]
  },
  {
   "cell_type": "code",
   "execution_count": null,
   "metadata": {},
   "outputs": [],
   "source": [
    "all_figs = []\n",
    "for df in dfs:\n",
    "    all_figs.append(\n",
    "        [\n",
    "            getRPMFigure(df),\n",
    "            getRPMAndActuatorFigure(df),\n",
    "            getVehicleSpeedFigure(df),\n",
    "            getShiftRatioAndAcuatorFigure(df),\n",
    "            getVelocityCommandsFigure(df),\n",
    "            getShadowCountFigure(df),\n",
    "        ]\n",
    "    )"
   ]
  },
  {
   "cell_type": "code",
   "execution_count": null,
   "metadata": {},
   "outputs": [],
   "source": [
    "if generate_html:\n",
    "    for path, figs in zip(paths, all_figs):\n",
    "        filename_without_ext = os.path.splitext(os.path.basename(path))[0]\n",
    "        html_path = f\"graphs/{filename_without_ext}.html\"\n",
    "        figuresToHTML(figs, html_path, offline=offline)"
   ]
  },
  {
   "cell_type": "code",
   "execution_count": null,
   "metadata": {},
   "outputs": [],
   "source": [
    "if show_figures:\n",
    "    idx = 0\n",
    "    print(f\"Graphing: {paths[idx]}\")\n",
    "    for fig in all_figs[idx]:\n",
    "        fig.show()"
   ]
  },
  {
   "cell_type": "markdown",
   "metadata": {},
   "source": [
    "### Create Group Graphs (By Graph Type)"
   ]
  },
  {
   "cell_type": "code",
   "execution_count": null,
   "metadata": {},
   "outputs": [],
   "source": [
    "figure_names_and_funcs = [\n",
    "    (\"rpm\", getRPMFigure),\n",
    "    (\"rpm-and-actuator\", getRPMAndActuatorFigure),\n",
    "    (\"vehicle-speed\", getVehicleSpeedFigure),\n",
    "    (\"shift-ratio-and-acuator\", getShiftRatioAndAcuatorFigure),\n",
    "    (\"velocity-command\", getVelocityCommandsFigure),\n",
    "    (\"shadow-count\", getShadowCountFigure),\n",
    "]\n",
    "all_figs = []\n",
    "for name, func in figure_names_and_funcs:\n",
    "    figs = []\n",
    "    for df in dfs:\n",
    "        figs.append(func(df))\n",
    "    all_figs.append((name, figs))"
   ]
  },
  {
   "cell_type": "code",
   "execution_count": null,
   "metadata": {},
   "outputs": [],
   "source": [
    "if generate_html:\n",
    "    for figs in all_figs:\n",
    "        filename_without_ext = os.path.splitext(os.path.basename(path))[0]\n",
    "        html_path = f\"graphs/{figs[0]}.html\"\n",
    "        figuresToHTML(figs[1], html_path, offline=offline)"
   ]
  },
  {
   "cell_type": "markdown",
   "metadata": {},
   "source": [
    "### Odrive Helpers"
   ]
  },
  {
   "cell_type": "code",
   "execution_count": null,
   "metadata": {},
   "outputs": [],
   "source": [
    "import odrive.enums\n",
    "from enum import Enum\n",
    "\n",
    "\n",
    "class ErrorType(Enum):\n",
    "    AXIS = 0\n",
    "    MOTOR = 1\n",
    "    SENSORLESS_ESTIMATOR = 2\n",
    "    ENCODER = 3\n",
    "    CONTROLLER = 4\n",
    "\n",
    "\n",
    "def printErrors(error, error_type, prefix=\"\"):\n",
    "    error = int(error)\n",
    "    if error_type == ErrorType.AXIS:\n",
    "        error_map_prefix = \"AXIS_ERROR_\"\n",
    "    elif error_type == ErrorType.MOTOR:\n",
    "        error_map_prefix = \"MOTOR_ERROR_\"\n",
    "    elif error_type == ErrorType.SENSORLESS_ESTIMATOR:\n",
    "        error_map_prefix = \"SENSORLESS_ESTIMATOR_ERROR_\"\n",
    "    elif error_type == ErrorType.ENCODER:\n",
    "        error_map_prefix = \"ENCODER_ERROR_\"\n",
    "    elif error_type == ErrorType.CONTROLLER:\n",
    "        error_map_prefix = \"CONTROLLER_ERROR_\"\n",
    "    error_map = {\n",
    "        v: k for k, v in odrive.enums.__dict__.items() if k.startswith(error_map_prefix)\n",
    "    }\n",
    "    for bit in range(64):\n",
    "        if error & (1 << bit) != 0:\n",
    "            print(f\"{prefix}{error_map.get(1 << bit)}\")"
   ]
  },
  {
   "cell_type": "markdown",
   "metadata": {},
   "source": [
    "### Error Logging"
   ]
  },
  {
   "cell_type": "code",
   "execution_count": null,
   "metadata": {},
   "outputs": [],
   "source": [
    "error_types = [\n",
    "    (ErrorType.MOTOR, \"motor_error\", \"Motor Errors\"),\n",
    "    (ErrorType.AXIS, \"axis_error\", \"Axis Errors\"),\n",
    "    (ErrorType.ENCODER, \"encoder_error\", \"Encoder Errors\"),\n",
    "]"
   ]
  },
  {
   "cell_type": "code",
   "execution_count": null,
   "metadata": {},
   "outputs": [],
   "source": [
    "df = dfs[-2]\n",
    "error_type = error_types[0]\n",
    "\n",
    "print(f\"Errors for {df.filename}:\\n\")\n",
    "\n",
    "idxs = np.where(df[error_type[1]] != df[error_type[1]].shift())\n",
    "\n",
    "for idx in idxs[0]:\n",
    "    error_time_s = df.iloc[idx][\"start_s\"]\n",
    "    error = df.iloc[idx][error_type[1]]\n",
    "    print(f\"{error_type[2]} ({error_time_s:.02f}):\")\n",
    "    if error == 0:\n",
    "        print(\"  NONE\")\n",
    "    else:\n",
    "        printErrors(error, error_type[0], \"  \")"
   ]
  }
 ],
 "metadata": {
  "kernelspec": {
   "display_name": "Python 3.10.9 64-bit",
   "language": "python",
   "name": "python3"
  },
  "language_info": {
   "codemirror_mode": {
    "name": "ipython",
    "version": 3
   },
   "file_extension": ".py",
   "mimetype": "text/x-python",
   "name": "python",
   "nbconvert_exporter": "python",
   "pygments_lexer": "ipython3",
   "version": "3.10.9"
  },
  "orig_nbformat": 4,
  "vscode": {
   "interpreter": {
    "hash": "e7370f93d1d0cde622a1f8e1c04877d8463912d04d973331ad4851f04de6915a"
   }
  }
 },
 "nbformat": 4,
 "nbformat_minor": 2
}
