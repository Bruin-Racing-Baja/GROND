{
 "cells": [
  {
   "cell_type": "markdown",
   "metadata": {},
   "source": [
    "### Imports"
   ]
  },
  {
   "cell_type": "code",
   "execution_count": null,
   "metadata": {},
   "outputs": [],
   "source": [
    "import os\n",
    "import pandas as pd\n",
    "\n",
    "import plotly.graph_objects as go\n",
    "import plotly.io as pio\n",
    "\n",
    "\n",
    "from log_parser import *\n",
    "from odrive_utils import *\n",
    "from figures import *\n"
   ]
  },
  {
   "cell_type": "markdown",
   "metadata": {},
   "source": [
    "### Get Logs"
   ]
  },
  {
   "cell_type": "code",
   "execution_count": null,
   "metadata": {},
   "outputs": [],
   "source": [
    "# config\n",
    "log_dir = \"logs\"\n",
    "generate_html = True\n",
    "offline = False\n",
    "show_figures = False\n",
    "min_log_size_kb = 1\n",
    "csv_logs = False\n",
    "dark_theme = True"
   ]
  },
  {
   "cell_type": "code",
   "execution_count": null,
   "metadata": {},
   "outputs": [],
   "source": [
    "# get paths\n",
    "if csv_logs:\n",
    "    log_ext = \"txt\"\n",
    "    logParserFunc = parseCSVFile\n",
    "else:\n",
    "    log_ext = \"bin\"\n",
    "    logParserFunc = parseBinaryFile\n",
    "if dark_theme:\n",
    "    pio.templates.default = \"plotly_dark\"\n",
    "else:\n",
    "    pio.templates.default = \"plotly_white\"\n",
    "\n",
    "\n",
    "paths = getLogsByExtension(log_dir, log_ext)\n",
    "paths = filterFilesBySize(paths, min_log_size_kb)"
   ]
  },
  {
   "cell_type": "code",
   "execution_count": null,
   "metadata": {},
   "outputs": [],
   "source": [
    "# create dataframes\n",
    "dfs = []\n",
    "\n",
    "for path in paths:\n",
    "    _, df = logParserFunc(path)\n",
    "    if df is None:\n",
    "        continue\n",
    "    postProcessDataframe(df)\n",
    "    df.filename = os.path.basename(path)\n",
    "    addNormalizedColumns(df)\n",
    "    dfs.append(df)"
   ]
  },
  {
   "cell_type": "markdown",
   "metadata": {},
   "source": [
    "### Create per Log Graphs"
   ]
  },
  {
   "cell_type": "code",
   "execution_count": null,
   "metadata": {},
   "outputs": [],
   "source": [
    "# create graphs\n",
    "figure_funcs = [\n",
    "    getRPMFigure,\n",
    "    getRPMAndActuatorFigure,\n",
    "    getVehicleSpeedFigure,\n",
    "    getShiftRatioAndAcuatorFigure,\n",
    "    getShiftRatioFigure,\n",
    "    getVelocityCommandFigure,\n",
    "    getShadowCountFigure,\n",
    "    getEngineVsWheelFigure,\n",
    "    getEverythingFigure,\n",
    "    getVoltageAndCurrentFigure,\n",
    "    getFilteredSecondaryFigure,\n",
    "]\n",
    "\n",
    "all_figs_by_log = []\n",
    "\n",
    "for df in dfs:\n",
    "    figs = []\n",
    "    for figure_func in figure_funcs:\n",
    "        figs.append(figure_func(df))\n",
    "    all_figs_by_log.append(figs)\n",
    "\n",
    "if generate_html:\n",
    "    for path, figs_by_log in zip(paths, all_figs_by_log):\n",
    "        filename_without_ext = os.path.splitext(os.path.basename(path))[0]\n",
    "        html_path = f\"graphs/{filename_without_ext}.html\"\n",
    "        figuresToHTML(figs_by_log, html_path, offline=offline, dark_theme=dark_theme)\n"
   ]
  },
  {
   "cell_type": "code",
   "execution_count": null,
   "metadata": {},
   "outputs": [],
   "source": []
  },
  {
   "cell_type": "code",
   "execution_count": null,
   "metadata": {},
   "outputs": [],
   "source": [
    "import ipywidgets as widgets\n",
    "from IPython.display import clear_output\n",
    "\n",
    "show_figures = True\n",
    "if show_figures:\n",
    "    dropdown = widgets.Dropdown(options=paths, value=paths[-1])\n",
    "\n",
    "    def onDropdownChange(change):\n",
    "        if change[\"type\"] == \"change\" and change[\"name\"] == \"value\":\n",
    "            clear_output()\n",
    "            idx = paths.index(change[\"new\"])\n",
    "            printErrorTimes(dfs[idx], ErrorType.MOTOR)\n",
    "            display(dropdown)\n",
    "            for fig in all_figs_by_log[idx]:\n",
    "                fig.show()\n",
    "\n",
    "    idx = -1\n",
    "    dropdown.observe(onDropdownChange)\n",
    "    printErrorTimes(dfs[idx], ErrorType.MOTOR)\n",
    "    display(dropdown)\n",
    "    for fig in all_figs_by_log[idx]:\n",
    "        fig.show()"
   ]
  },
  {
   "cell_type": "markdown",
   "metadata": {},
   "source": [
    "### Create Group Graphs (By Graph Type)"
   ]
  },
  {
   "cell_type": "code",
   "execution_count": null,
   "metadata": {},
   "outputs": [],
   "source": [
    "\"\"\"\n",
    "figure_names_and_funcs = [\n",
    "    (\"rpm\", getRPMFigure),\n",
    "    (\"rpm-and-actuator\", getRPMAndActuatorFigure),\n",
    "    (\"vehicle-speed\", getVehicleSpeedFigure),\n",
    "    (\"shift-ratio-and-acuator\", getShiftRatioAndAcuatorFigure),\n",
    "    (\"velocity-command\", getVelocityCommandFigure),\n",
    "    (\"shadow-count\", getShadowCountFigure),\n",
    "    (\"shift-ratio\", getShiftRatioFigure),\n",
    "    (\"engine-vs-wheel\", getEngineVsWheelFigure),\n",
    "]\n",
    "all_figs_by_type = []\n",
    "for name, func in figure_names_and_funcs:\n",
    "    figs_by_type = []\n",
    "    for df in dfs:\n",
    "        figs_by_type.append(func(df))\n",
    "    all_figs_by_type.append((name, figs_by_type))\n",
    "\n",
    "if generate_html:\n",
    "    for figs_by_type in all_figs_by_type:\n",
    "        filename_without_ext = os.path.splitext(os.path.basename(path))[0]\n",
    "        html_path = f\"graphs/all-{figs_by_type[0]}.html\"\n",
    "        figuresToHTML(figs_by_type[1], html_path, offline=offline)\n",
    "\"\"\""
   ]
  }
 ],
 "metadata": {
  "kernelspec": {
   "display_name": "Python 3.10.9 64-bit",
   "language": "python",
   "name": "python3"
  },
  "language_info": {
   "codemirror_mode": {
    "name": "ipython",
    "version": 3
   },
   "file_extension": ".py",
   "mimetype": "text/x-python",
   "name": "python",
   "nbconvert_exporter": "python",
   "pygments_lexer": "ipython3",
   "version": "3.10.9"
  },
  "orig_nbformat": 4,
  "vscode": {
   "interpreter": {
    "hash": "e7370f93d1d0cde622a1f8e1c04877d8463912d04d973331ad4851f04de6915a"
   }
  }
 },
 "nbformat": 4,
 "nbformat_minor": 2
}
