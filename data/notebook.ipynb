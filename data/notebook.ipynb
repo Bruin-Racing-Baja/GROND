{
 "cells": [
  {
   "cell_type": "markdown",
   "metadata": {},
   "source": [
    "### Odrive Setup"
   ]
  },
  {
   "cell_type": "code",
   "execution_count": null,
   "metadata": {},
   "outputs": [],
   "source": [
    "import odrive.enums\n",
    "import numpy as np\n",
    "from enum import Enum\n",
    "\n",
    "\n",
    "class ErrorType(Enum):\n",
    "    AXIS = 0\n",
    "    MOTOR = 1\n",
    "    SENSORLESS_ESTIMATOR = 2\n",
    "    ENCODER = 3\n",
    "    CONTROLLER = 4\n",
    "\n",
    "\n",
    "error_type_infos = {\n",
    "    ErrorType.MOTOR: (\"motor_error\", \"Motor Errors\"),\n",
    "    ErrorType.AXIS: (\"axis_error\", \"Axis Errors\"),\n",
    "    ErrorType.ENCODER: (\"encoder_error\", \"Encoder Errors\"),\n",
    "}\n",
    "\n",
    "\n",
    "def printErrors(error, error_type, prefix=\"\"):\n",
    "    error = int(error)\n",
    "    if error_type == ErrorType.AXIS:\n",
    "        error_map_prefix = \"AXIS_ERROR_\"\n",
    "    elif error_type == ErrorType.MOTOR:\n",
    "        error_map_prefix = \"MOTOR_ERROR_\"\n",
    "    elif error_type == ErrorType.SENSORLESS_ESTIMATOR:\n",
    "        error_map_prefix = \"SENSORLESS_ESTIMATOR_ERROR_\"\n",
    "    elif error_type == ErrorType.ENCODER:\n",
    "        error_map_prefix = \"ENCODER_ERROR_\"\n",
    "    elif error_type == ErrorType.CONTROLLER:\n",
    "        error_map_prefix = \"CONTROLLER_ERROR_\"\n",
    "    error_map = {\n",
    "        v: k for k, v in odrive.enums.__dict__.items() if k.startswith(error_map_prefix)\n",
    "    }\n",
    "    for bit in range(64):\n",
    "        if error & (1 << bit) != 0:\n",
    "            print(f\"{prefix}{error_map.get(1 << bit)}\")\n",
    "\n",
    "\n",
    "def printErrorTimes(df, error_type):\n",
    "    error_type_info = error_type_infos[error_type]\n",
    "    idxs = np.where(df[error_type_info[0]] != df[error_type_info[0]].shift())\n",
    "\n",
    "    for idx in idxs[0]:\n",
    "        error_time_s = df.iloc[idx][\"start_s\"]\n",
    "        error = df.iloc[idx][error_type_info[0]]\n",
    "        print(f\"{error_type_info[1]} ({error_time_s:.02f}):\")\n",
    "        if error == 0:\n",
    "            print(\"  NONE\")\n",
    "        else:\n",
    "            printErrors(error, error_type, \"  \")"
   ]
  },
  {
   "cell_type": "markdown",
   "metadata": {},
   "source": [
    "### Data Parsing Setup"
   ]
  },
  {
   "cell_type": "code",
   "execution_count": null,
   "metadata": {},
   "outputs": [],
   "source": [
    "import os\n",
    "import pandas as pd\n",
    "\n",
    "import plotly.graph_objects as go\n",
    "\n",
    "# import plotly.express as px\n",
    "# import plotly.subplots as subplots\n",
    "\n",
    "csv_cols = [\n",
    "    \"dt_us\",\n",
    "    \"voltage\",\n",
    "    \"heartbeat\",\n",
    "    \"wheel_rpm\",\n",
    "    \"engine_rpm\",\n",
    "    \"target_rpm\",\n",
    "    \"velocity_command\",\n",
    "    \"real_velocity_command\",\n",
    "    \"shadow_count\",\n",
    "    \"ignore1\",\n",
    "    \"ignore2\",\n",
    "    \"iq_measured\",\n",
    "    \"flushed\",\n",
    "    \"wheel_count\",\n",
    "    \"engine_count\",\n",
    "    \"iq_setpoint\",\n",
    "    \"start_us\",\n",
    "    \"stop_us\",\n",
    "    \"current\",\n",
    "    \"axis_error\",\n",
    "    \"motor_error\",\n",
    "    \"encoder_error\",\n",
    "]\n",
    "\n",
    "wheel_diameter = 23\n",
    "secondary_ratio = 12 / 6 * 45 / 17\n",
    "wheel_ratio = 12 / 6 * 18 / 57\n",
    "pitch_angle = 5\n",
    "encoder_cpr = 8192"
   ]
  },
  {
   "cell_type": "code",
   "execution_count": null,
   "metadata": {},
   "outputs": [],
   "source": [
    "class DescribedDataframe(pd.DataFrame):\n",
    "    _metadata = [\"filename\", \"description\"]\n",
    "\n",
    "    @property\n",
    "    def _constructor(self):\n",
    "        return DescribedDataframe"
   ]
  },
  {
   "cell_type": "code",
   "execution_count": null,
   "metadata": {},
   "outputs": [],
   "source": [
    "def parseCSVFile(path):\n",
    "    try:\n",
    "        df = pd.read_csv(path, skiprows=1, header=None, names=csv_cols)\n",
    "    except:\n",
    "        return None\n",
    "    return DescribedDataframe(df)\n",
    "\n",
    "\n",
    "def parseBinaryFile(path):\n",
    "    return None\n",
    "\n",
    "\n",
    "def postProcessDataframe(df):\n",
    "    df[\"start_s\"] = df[\"start_us\"] / 1e6\n",
    "\n",
    "    df[\"secondary_rpm\"] = df[\"wheel_rpm\"] * secondary_ratio\n",
    "    df[\"wheel_rpm\"] = df[\"wheel_rpm\"] * wheel_ratio\n",
    "    df[\"wheel_mph\"] = (df[\"wheel_rpm\"] * wheel_diameter * np.pi) / (12 * 5280) * 60\n",
    "\n",
    "    df[\"actuator_position_mm\"] = -df[\"shadow_count\"] / encoder_cpr * pitch_angle\n",
    "    df[\"shift_ratio\"] = df[\"secondary_rpm\"] / df[\"engine_rpm\"]\n",
    "\n",
    "    motor_error_idxs = np.where(df[\"motor_error\"] != 0)\n",
    "    motor_error_bool = np.zeros(len(df))\n",
    "    motor_error_bool[motor_error_idxs] = 1\n",
    "    df[\"motor_error_bool\"] = motor_error_bool\n",
    "\n",
    "\n",
    "def addNormalizedColumns(df):\n",
    "    for col in df:\n",
    "        col_norm = f\"norm_{col}\"\n",
    "        if col.startswith(\"norm_\") or col_norm in df:\n",
    "            continue\n",
    "        col_obj = df[col]\n",
    "        df[col_norm] = (col_obj - np.min(col_obj)) / (np.max(col_obj) - np.min(col_obj))"
   ]
  },
  {
   "cell_type": "markdown",
   "metadata": {},
   "source": [
    "### Parse Data"
   ]
  },
  {
   "cell_type": "code",
   "execution_count": null,
   "metadata": {},
   "outputs": [],
   "source": [
    "def getTextLogs(log_dir):\n",
    "    log_dir_contents = os.listdir(log_dir)\n",
    "    txt_paths = []\n",
    "    for potential_file in log_dir_contents:\n",
    "        potential_file_path = os.path.join(log_dir, potential_file)\n",
    "        potential_file_ext = os.path.splitext(potential_file)[1]\n",
    "        if os.path.isfile(potential_file_path) and potential_file_ext == \".txt\":\n",
    "            txt_paths.append(potential_file_path)\n",
    "    txt_paths.sort()\n",
    "    return txt_paths\n",
    "\n",
    "\n",
    "def filterFilesBySize(paths, size_kb):\n",
    "    return [path for path in paths if os.path.getsize(path) >= size_kb * 1e3]"
   ]
  },
  {
   "cell_type": "code",
   "execution_count": null,
   "metadata": {},
   "outputs": [],
   "source": [
    "log_dir = \"logs/\"\n",
    "generate_html = False\n",
    "offline = False\n",
    "show_figures = False\n",
    "min_log_size_kb = 10\n",
    "\n",
    "paths = getTextLogs(log_dir)\n",
    "paths = filterFilesBySize(paths, min_log_size_kb)"
   ]
  },
  {
   "cell_type": "code",
   "execution_count": null,
   "metadata": {},
   "outputs": [],
   "source": [
    "dfs = [] \n",
    "\n",
    "for path in paths:\n",
    "    df = parseCSVFile(path)\n",
    "    if df is None:\n",
    "        continue\n",
    "    postProcessDataframe(df)\n",
    "    df.filename = os.path.basename(path)\n",
    "    addNormalizedColumns(df)\n",
    "    dfs.append(df)"
   ]
  },
  {
   "cell_type": "markdown",
   "metadata": {},
   "source": [
    "### Figure Generators"
   ]
  },
  {
   "cell_type": "code",
   "execution_count": null,
   "metadata": {},
   "outputs": [],
   "source": [
    "def getRPMFigure(df):\n",
    "    fig = go.Figure()\n",
    "    fig.add_trace(go.Scatter(x=df[\"start_s\"], y=df[\"engine_rpm\"], name=\"Engine RPM\"))\n",
    "    fig.add_trace(\n",
    "        go.Scatter(x=df[\"start_s\"], y=df[\"secondary_rpm\"], name=\"Secondary RPM\")\n",
    "    )\n",
    "    fig.add_trace(go.Scatter(x=df[\"start_s\"], y=df[\"target_rpm\"], name=\"Target RPM\"))\n",
    "    fig.update_layout(\n",
    "        xaxis_title=\"Time (s)\",\n",
    "        yaxis_title=\"RPM\",\n",
    "        title=f\"Engine RPM and Secondary RPM<br><sup>{df.filename}</sup>\",\n",
    "    )\n",
    "    fig.update_traces(showlegend=True)\n",
    "    return fig"
   ]
  },
  {
   "cell_type": "code",
   "execution_count": null,
   "metadata": {},
   "outputs": [],
   "source": [
    "def getRPMAndActuatorFigure(df):\n",
    "    fig = go.Figure()\n",
    "    fig.add_trace(\n",
    "        go.Scatter(x=df[\"start_s\"], y=df[\"norm_engine_rpm\"], name=\"Engine RPM\")\n",
    "    )\n",
    "    fig.add_trace(\n",
    "        go.Scatter(x=df[\"start_s\"], y=df[\"norm_secondary_rpm\"], name=\"Secondary RPM\")\n",
    "    )\n",
    "    fig.add_trace(\n",
    "        go.Scatter(\n",
    "            x=df[\"start_s\"], y=df[\"norm_actuator_position_mm\"], name=\"Actuator Position\"\n",
    "        )\n",
    "    )\n",
    "    fig.update_layout(\n",
    "        xaxis_title=\"Time (s)\",\n",
    "        title=f\"Normalized Engine RPM, Secondary RPM, and Actuator Position<br><sup>{df.filename}</sup>\",\n",
    "    )\n",
    "    fig.update_traces(showlegend=True)\n",
    "    return fig"
   ]
  },
  {
   "cell_type": "code",
   "execution_count": null,
   "metadata": {},
   "outputs": [],
   "source": [
    "def getVehicleSpeedFigure(df):\n",
    "    fig = go.Figure()\n",
    "    fig.add_trace(\n",
    "        go.Scatter(\n",
    "            x=df[\"start_s\"],\n",
    "            y=df[\"wheel_mph\"],\n",
    "        )\n",
    "    )\n",
    "    fig.update_layout(\n",
    "        xaxis_title=\"Time (s)\",\n",
    "        yaxis_title=\"Vehicle Speed (mph)\",\n",
    "        title=f\"Vehicle Speed<br><sup>{df.filename}</sup>\",\n",
    "    )\n",
    "    return fig"
   ]
  },
  {
   "cell_type": "code",
   "execution_count": null,
   "metadata": {},
   "outputs": [],
   "source": [
    "def getShiftRatioAndAcuatorFigure(df):\n",
    "    fig = go.Figure()\n",
    "    fig.add_trace(\n",
    "        go.Scatter(\n",
    "            x=df[\"start_s\"],\n",
    "            y=df[\"norm_actuator_position_mm\"],\n",
    "            name=\"Actuator Position (mm)\",\n",
    "        )\n",
    "    )\n",
    "    fig.add_trace(\n",
    "        go.Scatter(x=df[\"start_s\"], y=df[\"norm_shift_ratio\"], name=\"Shift Ratio\")\n",
    "    )\n",
    "    fig.update_layout(\n",
    "        xaxis_title=\"Time (s)\",\n",
    "        title=f\"Normalized Actuator Position and Shift Ratio<br><sup>{df.filename}</sup>\",\n",
    "    )\n",
    "    fig.update_traces(showlegend=True)\n",
    "    return fig"
   ]
  },
  {
   "cell_type": "code",
   "execution_count": null,
   "metadata": {},
   "outputs": [],
   "source": [
    "def getVelocityCommandsFigure(df):\n",
    "    fig = go.Figure()\n",
    "    fig.add_trace(\n",
    "        go.Scatter(\n",
    "            x=df[\"start_s\"], y=df[\"velocity_command\"], name=\"Unclamped Velocity Command\"\n",
    "        )\n",
    "    )\n",
    "    fig.add_trace(\n",
    "        go.Scatter(\n",
    "            x=df[\"start_s\"], y=df[\"real_velocity_command\"], name=\"Velocity Command\"\n",
    "        )\n",
    "    )\n",
    "    fig.update_layout(\n",
    "        xaxis_title=\"Time (s)\",\n",
    "        yaxis_title=\"Velocity Command\",\n",
    "        title=f\"Velocity Command<br><sup>{df.filename}</sup>\",\n",
    "    )\n",
    "    return fig"
   ]
  },
  {
   "cell_type": "code",
   "execution_count": null,
   "metadata": {},
   "outputs": [],
   "source": [
    "def getShadowCountFigure(df):\n",
    "    fig = go.Figure()\n",
    "    fig.add_trace(\n",
    "        go.Scatter(x=df[\"start_s\"], y=df[\"shadow_count\"], name=\"Shadow Count\")\n",
    "    )\n",
    "    fig.update_layout(\n",
    "        xaxis_title=\"Time (s)\",\n",
    "        yaxis_title=\"Shadow Count\",\n",
    "        title=f\"Shadow Count<br><sup>{df.filename}</sup>\",\n",
    "    )\n",
    "    return fig"
   ]
  },
  {
   "cell_type": "code",
   "execution_count": null,
   "metadata": {},
   "outputs": [],
   "source": [
    "def getEngineVsWheel(df):\n",
    "    fig = go.Figure()\n",
    "    fig.add_trace(\n",
    "        go.Scatter(\n",
    "            x=df[\"wheel_mph\"], y=df[\"engine_rpm\"], name=\"Engine RPM vs Wheel Speed\"\n",
    "        )\n",
    "    )\n",
    "    fig.update_layout(\n",
    "        xaxis_title=\"Wheel Speed (mph)\",\n",
    "        yaxis_title=\"Engine RPM\",\n",
    "        title=f\"Engine RPM vs Wheel Speed<br><sup>{df.filename}</sup>\",\n",
    "    )\n",
    "    return fig\n"
   ]
  },
  {
   "cell_type": "markdown",
   "metadata": {},
   "source": [
    "### Create Invidual Graphs (By Logs)"
   ]
  },
  {
   "cell_type": "code",
   "execution_count": null,
   "metadata": {},
   "outputs": [],
   "source": [
    "def figuresToHTML(figs, filename, offline=False):\n",
    "    with open(filename, \"w\") as file:\n",
    "        file.write(\"<html><head></head><body>\" + \"\\n\")\n",
    "        for fig in figs:\n",
    "            font_size_backup = fig.layout.font.size\n",
    "            fig.update_layout(font={\"size\": 20})\n",
    "            inner_html = (\n",
    "                fig.to_html(include_plotlyjs=(True if offline else \"cdn\"))\n",
    "                .split(\"<body>\")[1]\n",
    "                .split(\"</body>\")[0]\n",
    "            )\n",
    "            file.write(inner_html)\n",
    "            fig.update_layout(font={\"size\": font_size_backup})\n",
    "        file.write(\"</body></html>\" + \"\\n\")"
   ]
  },
  {
   "cell_type": "code",
   "execution_count": null,
   "metadata": {},
   "outputs": [],
   "source": [
    "all_figs_by_log = []\n",
    "for df in dfs:\n",
    "    all_figs_by_log.append(\n",
    "        [\n",
    "            getRPMFigure(df),\n",
    "            getRPMAndActuatorFigure(df),\n",
    "            getVehicleSpeedFigure(df),\n",
    "            getShiftRatioAndAcuatorFigure(df),\n",
    "            getVelocityCommandsFigure(df),\n",
    "            getShadowCountFigure(df),\n",
    "            getEngineVsWheel(df),\n",
    "        ]\n",
    "    )"
   ]
  },
  {
   "cell_type": "code",
   "execution_count": null,
   "metadata": {},
   "outputs": [],
   "source": [
    "if generate_html:\n",
    "    for path, figs_by_log in zip(paths, all_figs_by_log):\n",
    "        filename_without_ext = os.path.splitext(os.path.basename(path))[0]\n",
    "        html_path = f\"graphs/{filename_without_ext}.html\"\n",
    "        figuresToHTML(figs_by_log, html_path, offline=offline)"
   ]
  },
  {
   "cell_type": "code",
   "execution_count": null,
   "metadata": {},
   "outputs": [],
   "source": [
    "import ipywidgets as widgets\n",
    "from IPython.display import clear_output\n",
    "show_figures = True\n",
    "if show_figures:\n",
    "    dropdown = widgets.Dropdown(options=paths, value=paths[-1])\n",
    "\n",
    "    def onDropdownChange(change):\n",
    "        if change[\"type\"] == \"change\" and change[\"name\"] == \"value\":\n",
    "            clear_output()\n",
    "            idx = paths.index(change[\"new\"])\n",
    "            printErrorTimes(dfs[idx], ErrorType.MOTOR)\n",
    "            display(dropdown)\n",
    "            for fig in all_figs_by_log[idx]:\n",
    "                fig.show()\n",
    "\n",
    "    idx = -1\n",
    "    dropdown.observe(onDropdownChange)\n",
    "    printErrorTimes(dfs[idx], ErrorType.MOTOR)\n",
    "    display(dropdown)\n",
    "    for fig in all_figs_by_log[idx]:\n",
    "        fig.show()"
   ]
  },
  {
   "cell_type": "markdown",
   "metadata": {},
   "source": [
    "### Create Group Graphs (By Graph Type)"
   ]
  },
  {
   "cell_type": "code",
   "execution_count": null,
   "metadata": {},
   "outputs": [],
   "source": [
    "figure_names_and_funcs = [\n",
    "    (\"rpm\", getRPMFigure),\n",
    "    (\"rpm-and-actuator\", getRPMAndActuatorFigure),\n",
    "    (\"vehicle-speed\", getVehicleSpeedFigure),\n",
    "    (\"shift-ratio-and-acuator\", getShiftRatioAndAcuatorFigure),\n",
    "    (\"velocity-command\", getVelocityCommandsFigure),\n",
    "    (\"shadow-count\", getShadowCountFigure),\n",
    "    (\"engine-vs-wheel\", getEngineVsWheel),\n",
    "]\n",
    "all_figs_by_type = []\n",
    "for name, func in figure_names_and_funcs:\n",
    "    figs_by_type = []\n",
    "    for df in dfs:\n",
    "        figs_by_type.append(func(df))\n",
    "    all_figs_by_type.append((name, figs_by_type))"
   ]
  },
  {
   "cell_type": "code",
   "execution_count": null,
   "metadata": {},
   "outputs": [],
   "source": [
    "if generate_html:\n",
    "    for figs_by_type in all_figs_by_type:\n",
    "        filename_without_ext = os.path.splitext(os.path.basename(path))[0]\n",
    "        html_path = f\"graphs/{figs_by_type[0]}.html\"\n",
    "        figuresToHTML(figs_by_type[1], html_path, offline=offline)"
   ]
  },
  {
   "cell_type": "markdown",
   "metadata": {},
   "source": [
    "### Odrive Helpers"
   ]
  },
  {
   "cell_type": "code",
   "execution_count": null,
   "metadata": {},
   "outputs": [],
   "source": []
  },
  {
   "cell_type": "markdown",
   "metadata": {},
   "source": [
    "### Error Logging"
   ]
  },
  {
   "cell_type": "code",
   "execution_count": null,
   "metadata": {},
   "outputs": [],
   "source": []
  },
  {
   "cell_type": "code",
   "execution_count": null,
   "metadata": {},
   "outputs": [],
   "source": [
    "df = dfs[-2]\n",
    "printErrorTimes(df, ErrorType.MOTOR)"
   ]
  }
 ],
 "metadata": {
  "kernelspec": {
   "display_name": "Python 3.10.9 64-bit",
   "language": "python",
   "name": "python3"
  },
  "language_info": {
   "codemirror_mode": {
    "name": "ipython",
    "version": 3
   },
   "file_extension": ".py",
   "mimetype": "text/x-python",
   "name": "python",
   "nbconvert_exporter": "python",
   "pygments_lexer": "ipython3",
   "version": "3.10.4"
  },
  "orig_nbformat": 4,
  "vscode": {
   "interpreter": {
    "hash": "e7370f93d1d0cde622a1f8e1c04877d8463912d04d973331ad4851f04de6915a"
   }
  }
 },
 "nbformat": 4,
 "nbformat_minor": 2
}
